{
  "nbformat": 4,
  "nbformat_minor": 0,
  "metadata": {
    "colab": {
      "provenance": []
    },
    "kernelspec": {
      "name": "python3",
      "display_name": "Python 3"
    },
    "language_info": {
      "name": "python"
    }
  },
  "cells": [
    {
      "cell_type": "code",
      "execution_count": null,
      "metadata": {
        "id": "QHhdmudphUdS"
      },
      "outputs": [],
      "source": [
        "!git clone https://github.com/HFernanda0/Evi3.git"
      ]
    },
    {
      "cell_type": "code",
      "source": [
        "cd sample_data"
      ],
      "metadata": {
        "id": "ITLLK3z2hYeT"
      },
      "execution_count": null,
      "outputs": []
    },
    {
      "cell_type": "code",
      "source": [
        "class Datos:\n",
        "    nombre=\"\"\n",
        "    edad=\"\"\n",
        "    def nombre_edad(self):\n",
        "        print(\"El usuario : \",self.nombre)\n",
        "        print(\"Tiene :\",self.edad)\n",
        "        if self.edad>=18:\n",
        "            print(self.nombre,\"es mayor de edad\")\n",
        "        else:\n",
        "            print(self.nombre,\"es menor de edad\")\n",
        "\n",
        "# Prog ppal.\n",
        "# Objeto1\n",
        "datos1=Datos()\n",
        "datos1.nombre=input(\"Ingrese su nombre : \")\n",
        "datos1.edad=int(input(\"Ingrese su edad : \"))\n",
        "datos1.nombre_edad()\n",
        "\n",
        "# Objeto2\n",
        "datos2=Datos()\n",
        "datos2.nombre=input(\"Ingrese su nombre : \")\n",
        "datos2.edad=int(input(\"Ingrese su edad : \"))\n",
        "datos2.nombre_edad()"
      ],
      "metadata": {
        "id": "uPXK-MYBhbLl"
      },
      "execution_count": null,
      "outputs": []
    },
    {
      "cell_type": "code",
      "source": [
        "class Triangulo:\n",
        "   def carga(self):\n",
        "       self.lado1 = int(input(\"Ingrese el valor del LADO 1: \"))\n",
        "       self.lado2 = int(input(\"Ingrese el valor del LADO 2: \"))\n",
        "       self.lado3 = int(input(\"Ingrese el valor del LADO 3: \"))\n",
        "   def imprimir(self):\n",
        "       print(\"****************************************************\")\n",
        "       print(\"---Las dimensiones del triángulo son---\")\n",
        "       print(f\"LADO 1 = {self.lado1}\")\n",
        "       print(f\"LADO 2 = {self.lado2}\")\n",
        "       print(f\"LADO 3 = {self.lado3}\")\n",
        "\n",
        "       if self.lado1>self.lado2 and self.lado1>self.lado3:\n",
        "           print(f\"El LADO MAYOR mide: {self.lado1}cm\")\n",
        "       elif self.lado2>self.lado1 and self.lado2>self.lado3:\n",
        "           print(f\"El LADO MAYOR mide: {self.lado2}cm\")\n",
        "       else:\n",
        "           print(f\"El LADO MAYOR mide: {self.lado3}cm\")\n",
        "\n",
        "   def equilatero(self):\n",
        "       if self.lado1==self.lado2==self.lado3:\n",
        "           print(\"El triángulo es EQUILÁTERO\")\n",
        "           print(\"****************************************************\")\n",
        "       else:\n",
        "           print(\"El triángulo NO ES EQUILÁTERO\")\n",
        "           print(\"****************************************************\")\n",
        "\n",
        "# PPAL.\n",
        "print(\"Ingrese las dimensiones del TRIANGULO 1\")\n",
        "triangulo1=Triangulo()\n",
        "triangulo1.carga()\n",
        "triangulo1.imprimir()\n",
        "triangulo1.equilatero()\n",
        "\n",
        "print(\"Ingrese las dimensiones del TRIANGULO 2\")\n",
        "triangulo2=Triangulo()\n",
        "triangulo2.carga()\n",
        "triangulo2.imprimir()\n",
        "triangulo2.equilatero()"
      ],
      "metadata": {
        "id": "hbMZD7s-hfJ4"
      },
      "execution_count": null,
      "outputs": []
    },
    {
      "cell_type": "code",
      "source": [
        "class Empleado:\n",
        "\n",
        "    def __init__(self):\n",
        "        self.nombre=input(\"Ingrese el nombre del empleado:\")\n",
        "        self.sueldo=float(input(\"Ingrese el sueldo:\"))\n",
        "\n",
        "    def imprimir(self):\n",
        "        print(\"Nombre:\",self.nombre)\n",
        "        print(\"Sueldo:\",self.sueldo)\n",
        "\n",
        "    def paga_impuestos(self):\n",
        "        if self.sueldo>3000:\n",
        "            print(\"Debe pagar impuestos\")\n",
        "        else:\n",
        "            print(\"No paga impuestos\")"
      ],
      "metadata": {
        "id": "mAuTQ-xOhjwS"
      },
      "execution_count": null,
      "outputs": []
    },
    {
      "cell_type": "code",
      "source": [
        "class Punto:\n",
        "\n",
        "    def __init__(self,x,y):\n",
        "        self.x=x\n",
        "        self.y=y\n",
        "\n",
        "    def imprimir(self):\n",
        "        print(\"Coordenada del punto\")\n",
        "        print(\"(\",self.x,\",\",self.y,\")\")\n",
        "\n",
        "    def imprimir_cuadrante(self):\n",
        "        if self.x>0 and self.y>0:\n",
        "            print(\"Primer cuadrange\")\n",
        "        else:\n",
        "            if self.x<0 and self.y>0:\n",
        "                print(\"Segundo cuadrante\")\n",
        "            else:\n",
        "                if self.x<0 and self.y<0:\n",
        "                    print(\"Tercer cuadrante\")\n",
        "                else:\n",
        "                    if self.x>0 and self.y<0:\n",
        "                        print(\"Cuarto cuadrante\")\n",
        "\n",
        "\n",
        "# bloque principal\n",
        "\n",
        "punto1=Punto(10,-2)\n",
        "punto1.imprimir()\n",
        "punto1.imprimir_cuadrante()"
      ],
      "metadata": {
        "id": "p3syZG-UhnZf"
      },
      "execution_count": null,
      "outputs": []
    },
    {
      "cell_type": "code",
      "source": [
        "class Cuadrado:\n",
        "    def __init__(self,lado):\n",
        "        self.lado =lado\n",
        "\n",
        "    def perimetro(self):\n",
        "        print(f\"El perímetro del cuadrado es: {self.lado * 4}cm\")\n",
        "\n",
        "    def superficie(self):\n",
        "        print(f\"La superficie del cuadrado es: {self.lado * self.lado}cm2\")\n",
        "\n",
        "# ppal.\n",
        "lado=int(input(\"Ingrese el valor del lado: \"))\n",
        "cuadrado1=Cuadrado(lado)\n",
        "cuadrado1.perimetro()\n",
        "cuadrado1.superficie()"
      ],
      "metadata": {
        "id": "kevB_64jhqrr"
      },
      "execution_count": null,
      "outputs": []
    },
    {
      "cell_type": "code",
      "source": [
        "class Calculadora:\n",
        "    def __init__(self):\n",
        "        self.a=int(input(\"Ingrese el 1º valor : \"))\n",
        "        self.b = int(input(\"Ingrese el 2º valor : \"))\n",
        "    def suma(self):\n",
        "        resultado_suma =self.a+self.b\n",
        "        print(f\"La suma de {self.a}+{self.b}, es :{resultado_suma}\")\n",
        "\n",
        "    def resta(self):\n",
        "        resultado_resta=self.a-self.b\n",
        "        print(f\"La resta de {self.a}-{self.b}, es :{resultado_resta}\")\n",
        "\n",
        "    def multiplicacion(self):\n",
        "        resultado_multiplicacion = self.a*self.b\n",
        "        print(f\"La multiplicacion de {self.a}*{self.b}, es :{resultado_multiplicacion}\")\n",
        "\n",
        "    def division(self):\n",
        "        resultado_division = self.a/self.b\n",
        "        print(f\"La division de {self.a}/{self.b}, es :{resultado_division}\")\n",
        "\n",
        "# Prog ppal\n",
        "claculo1=Calculadora()\n",
        "claculo1.suma()\n",
        "claculo1.resta()\n",
        "claculo1.multiplicacion()\n",
        "claculo1.division()"
      ],
      "metadata": {
        "id": "P0a4IHXFht1N"
      },
      "execution_count": null,
      "outputs": []
    },
    {
      "cell_type": "code",
      "source": [
        "archi1=open(\"datos.txt\",\"w\", encoding=\"utf-8\")\n",
        "archi1.write(\"Primer línea.\\n\")\n",
        "archi1.write(\"Segunda línea.\\n\")\n",
        "archi1.write(\"Tercer línea.\\n\")\n",
        "archi1.close()"
      ],
      "metadata": {
        "id": "ewioPRGBhxbL"
      },
      "execution_count": null,
      "outputs": []
    },
    {
      "cell_type": "code",
      "source": [
        "archi1=open(\"datos.txt\",\"r\")\n",
        "for linea in archi1:\n",
        "    print(linea, end='')\n",
        "archi1.close()"
      ],
      "metadata": {
        "id": "6l_b_Cgah0e5"
      },
      "execution_count": null,
      "outputs": []
    },
    {
      "cell_type": "code",
      "source": [
        "archi1=open(\"datos.txt\",\"r+\")\n",
        "contenido=archi1.read()\n",
        "print(contenido)\n",
        "archi1.write(\"Otra línea 1\\n\")\n",
        "archi1.write(\"Otra línea 2\\n\")\n",
        "archi1.close()"
      ],
      "metadata": {
        "id": "Ej4M1ozWh3CW"
      },
      "execution_count": null,
      "outputs": []
    },
    {
      "cell_type": "code",
      "source": [
        "archi1=open(\"datos.txt\",\"r\")\n",
        "linea=archi1.readline()\n",
        "while linea!='':\n",
        "    print(linea, end='')\n",
        "    linea=archi1.readline()\n",
        "archi1.close()"
      ],
      "metadata": {
        "id": "3fKi8eiEh8--"
      },
      "execution_count": null,
      "outputs": []
    },
    {
      "cell_type": "code",
      "source": [
        "archi1=open(\"datos.txt\",\"r\")\n",
        "contenido=archi1.read()\n",
        "print(contenido)\n",
        "archi1.close()\n",
        "\n",
        "archi1=open(\"datos.txt\",\"r\")\n",
        "contenido=archi1.read()\n",
        "archi1.close()"
      ],
      "metadata": {
        "id": "36GzPMQIiAlj"
      },
      "execution_count": null,
      "outputs": []
    }
  ]
}